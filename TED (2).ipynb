{
  "nbformat": 4,
  "nbformat_minor": 0,
  "metadata": {
    "colab": {
      "provenance": []
    },
    "kernelspec": {
      "name": "python3",
      "display_name": "Python 3"
    },
    "language_info": {
      "name": "python"
    }
  },
  "cells": [
    {
      "cell_type": "code",
      "execution_count": null,
      "metadata": {
        "colab": {
          "base_uri": "https://localhost:8080/"
        },
        "id": "2pJU4AEuMFiq",
        "outputId": "9da03421-03d0-4b39-b41e-1c0409ff0b87"
      },
      "outputs": [
        {
          "output_type": "stream",
          "name": "stdout",
          "text": [
            "Requirement already satisfied: google-api-python-client in /usr/local/lib/python3.11/dist-packages (2.169.0)\n",
            "Requirement already satisfied: httplib2<1.0.0,>=0.19.0 in /usr/local/lib/python3.11/dist-packages (from google-api-python-client) (0.22.0)\n",
            "Requirement already satisfied: google-auth!=2.24.0,!=2.25.0,<3.0.0,>=1.32.0 in /usr/local/lib/python3.11/dist-packages (from google-api-python-client) (2.38.0)\n",
            "Requirement already satisfied: google-auth-httplib2<1.0.0,>=0.2.0 in /usr/local/lib/python3.11/dist-packages (from google-api-python-client) (0.2.0)\n",
            "Requirement already satisfied: google-api-core!=2.0.*,!=2.1.*,!=2.2.*,!=2.3.0,<3.0.0,>=1.31.5 in /usr/local/lib/python3.11/dist-packages (from google-api-python-client) (2.24.2)\n",
            "Requirement already satisfied: uritemplate<5,>=3.0.1 in /usr/local/lib/python3.11/dist-packages (from google-api-python-client) (4.1.1)\n",
            "Requirement already satisfied: googleapis-common-protos<2.0.0,>=1.56.2 in /usr/local/lib/python3.11/dist-packages (from google-api-core!=2.0.*,!=2.1.*,!=2.2.*,!=2.3.0,<3.0.0,>=1.31.5->google-api-python-client) (1.70.0)\n",
            "Requirement already satisfied: protobuf!=3.20.0,!=3.20.1,!=4.21.0,!=4.21.1,!=4.21.2,!=4.21.3,!=4.21.4,!=4.21.5,<7.0.0,>=3.19.5 in /usr/local/lib/python3.11/dist-packages (from google-api-core!=2.0.*,!=2.1.*,!=2.2.*,!=2.3.0,<3.0.0,>=1.31.5->google-api-python-client) (5.29.4)\n",
            "Requirement already satisfied: proto-plus<2.0.0,>=1.22.3 in /usr/local/lib/python3.11/dist-packages (from google-api-core!=2.0.*,!=2.1.*,!=2.2.*,!=2.3.0,<3.0.0,>=1.31.5->google-api-python-client) (1.26.1)\n",
            "Requirement already satisfied: requests<3.0.0,>=2.18.0 in /usr/local/lib/python3.11/dist-packages (from google-api-core!=2.0.*,!=2.1.*,!=2.2.*,!=2.3.0,<3.0.0,>=1.31.5->google-api-python-client) (2.32.3)\n",
            "Requirement already satisfied: cachetools<6.0,>=2.0.0 in /usr/local/lib/python3.11/dist-packages (from google-auth!=2.24.0,!=2.25.0,<3.0.0,>=1.32.0->google-api-python-client) (5.5.2)\n",
            "Requirement already satisfied: pyasn1-modules>=0.2.1 in /usr/local/lib/python3.11/dist-packages (from google-auth!=2.24.0,!=2.25.0,<3.0.0,>=1.32.0->google-api-python-client) (0.4.2)\n",
            "Requirement already satisfied: rsa<5,>=3.1.4 in /usr/local/lib/python3.11/dist-packages (from google-auth!=2.24.0,!=2.25.0,<3.0.0,>=1.32.0->google-api-python-client) (4.9.1)\n",
            "Requirement already satisfied: pyparsing!=3.0.0,!=3.0.1,!=3.0.2,!=3.0.3,<4,>=2.4.2 in /usr/local/lib/python3.11/dist-packages (from httplib2<1.0.0,>=0.19.0->google-api-python-client) (3.2.3)\n",
            "Requirement already satisfied: pyasn1<0.7.0,>=0.6.1 in /usr/local/lib/python3.11/dist-packages (from pyasn1-modules>=0.2.1->google-auth!=2.24.0,!=2.25.0,<3.0.0,>=1.32.0->google-api-python-client) (0.6.1)\n",
            "Requirement already satisfied: charset-normalizer<4,>=2 in /usr/local/lib/python3.11/dist-packages (from requests<3.0.0,>=2.18.0->google-api-core!=2.0.*,!=2.1.*,!=2.2.*,!=2.3.0,<3.0.0,>=1.31.5->google-api-python-client) (3.4.1)\n",
            "Requirement already satisfied: idna<4,>=2.5 in /usr/local/lib/python3.11/dist-packages (from requests<3.0.0,>=2.18.0->google-api-core!=2.0.*,!=2.1.*,!=2.2.*,!=2.3.0,<3.0.0,>=1.31.5->google-api-python-client) (3.10)\n",
            "Requirement already satisfied: urllib3<3,>=1.21.1 in /usr/local/lib/python3.11/dist-packages (from requests<3.0.0,>=2.18.0->google-api-core!=2.0.*,!=2.1.*,!=2.2.*,!=2.3.0,<3.0.0,>=1.31.5->google-api-python-client) (2.4.0)\n",
            "Requirement already satisfied: certifi>=2017.4.17 in /usr/local/lib/python3.11/dist-packages (from requests<3.0.0,>=2.18.0->google-api-core!=2.0.*,!=2.1.*,!=2.2.*,!=2.3.0,<3.0.0,>=1.31.5->google-api-python-client) (2025.4.26)\n",
            "Requirement already satisfied: isodate in /usr/local/lib/python3.11/dist-packages (0.7.2)\n"
          ]
        }
      ],
      "source": [
        "!pip install --upgrade google-api-python-client\n",
        "!pip install isodate\n"
      ]
    },
    {
      "cell_type": "code",
      "source": [
        "from googleapiclient.discovery import build\n",
        "import pandas as pd\n",
        "from time import sleep\n",
        "from isodate import parse_duration\n"
      ],
      "metadata": {
        "id": "ABx0Kc2_M6MT"
      },
      "execution_count": null,
      "outputs": []
    },
    {
      "cell_type": "code",
      "source": [
        "API_KEY = '",
        "\n",
        "youtube = build('youtube', 'v3', developerKey=API_KEY)\n",
        "channel_id = 'UCAuUUnT6oDeKwE6v1NGQxug'  # TED Channel\n"
      ],
      "metadata": {
        "id": "I4yRwxKMM7Xy"
      },
      "execution_count": null,
      "outputs": []
    },
    {
      "cell_type": "code",
      "source": [
        "#  Step 4: Get categoryId → category name mapping\n",
        "categories_res = youtube.videoCategories().list(\n",
        "    part=\"snippet\",\n",
        "    regionCode=\"US\"\n",
        ").execute()\n",
        "\n",
        "category_map = {}\n",
        "for item in categories_res['items']:\n",
        "    category_id = item['id']\n",
        "    category_title = item['snippet']['title']\n",
        "    category_map[category_id] = category_title\n"
      ],
      "metadata": {
        "id": "lhB40-TtbQI1"
      },
      "execution_count": null,
      "outputs": []
    },
    {
      "cell_type": "code",
      "source": [
        "channel_res = youtube.channels().list(\n",
        "    part='contentDetails',\n",
        "    id=channel_id\n",
        ").execute()\n",
        "\n",
        "uploads_playlist_id = channel_res['items'][0]['contentDetails']['relatedPlaylists']['uploads']\n"
      ],
      "metadata": {
        "id": "uJwb-QgFPske"
      },
      "execution_count": null,
      "outputs": []
    },
    {
      "cell_type": "code",
      "source": [
        "video_ids = []\n",
        "next_page_token = None\n",
        "\n",
        "while True:\n",
        "    playlist_res = youtube.playlistItems().list(\n",
        "        part='snippet',\n",
        "        playlistId=uploads_playlist_id,\n",
        "        maxResults=50,\n",
        "        pageToken=next_page_token\n",
        "    ).execute()\n",
        "\n",
        "    for item in playlist_res['items']:\n",
        "        video_ids.append(item['snippet']['resourceId']['videoId'])\n",
        "\n",
        "    next_page_token = playlist_res.get('nextPageToken')\n",
        "    if not next_page_token:\n",
        "        break\n",
        "\n",
        "    sleep(1)\n"
      ],
      "metadata": {
        "id": "FJhm0tVXP0hl"
      },
      "execution_count": null,
      "outputs": []
    },
    {
      "cell_type": "code",
      "source": [
        "all_data = []\n",
        "\n",
        "for i in range(0, len(video_ids), 50):\n",
        "    response = youtube.videos().list(\n",
        "        part='snippet,statistics,contentDetails',\n",
        "        id=','.join(video_ids[i:i+50])\n",
        "    ).execute()\n",
        "\n",
        "    for item in response['items']:\n",
        "        snippet = item['snippet']\n",
        "        stats = item.get('statistics', {})\n",
        "        details = item.get('contentDetails', {})\n",
        "\n",
        "        all_data.append({\n",
        "            'Title': snippet['title'],\n",
        "            'Published At': snippet['publishedAt'],\n",
        "            'Video ID': item['id'],\n",
        "            'Video URL': f\"https://www.youtube.com/watch?v={item['id']}\",\n",
        "            'Views': int(stats.get('viewCount', 0)),\n",
        "            'Likes': int(stats.get('likeCount', 0)),\n",
        "            'Comments': int(stats.get('commentCount', 0)),\n",
        "            'Duration': details.get('duration', ''),\n",
        "            'Category': category_map.get(snippet.get('categoryId', ''), 'Unknown'),\n",
        "            'Tags': ', '.join(snippet.get('tags', [])) if 'tags' in snippet else '',\n",
        "            'Description': snippet.get('description', '')\n",
        "        })\n",
        "\n",
        "    sleep(1)\n"
      ],
      "metadata": {
        "id": "M30F70tvP8IR"
      },
      "execution_count": null,
      "outputs": []
    },
    {
      "cell_type": "code",
      "source": [
        "# 📌 Step 8: Convert to DataFrame and format duration\n",
        "df = pd.DataFrame(all_data)\n",
        "\n",
        "# Convert ISO 8601 duration to readable format\n",
        "def format_duration(iso_duration):\n",
        "    duration = parse_duration(iso_duration)\n",
        "    total_seconds = int(duration.total_seconds())\n",
        "    hours = total_seconds // 3600\n",
        "    minutes = (total_seconds % 3600) // 60\n",
        "    seconds = total_seconds % 60\n",
        "\n",
        "    if hours > 0:\n",
        "        return f\"{hours}:{minutes:02}:{seconds:02}\"\n",
        "    else:\n",
        "        return f\"{minutes}:{seconds:02}\"\n",
        "\n",
        "df['Readable Duration'] = df['Duration'].apply(format_duration)\n"
      ],
      "metadata": {
        "id": "UAjzhwaFi9M4"
      },
      "execution_count": null,
      "outputs": []
    },
    {
      "cell_type": "code",
      "source": [
        "df.to_csv('ted_full_data.csv', index=False)\n",
        "\n",
        "from google.colab import files\n",
        "files.download('ted_full_data.csv')\n"
      ],
      "metadata": {
        "colab": {
          "base_uri": "https://localhost:8080/",
          "height": 17
        },
        "id": "4ewXnVuXQd9F",
        "outputId": "55ec2911-3660-4591-e193-cb310c0e0be2"
      },
      "execution_count": null,
      "outputs": [
        {
          "output_type": "display_data",
          "data": {
            "text/plain": [
              "<IPython.core.display.Javascript object>"
            ],
            "application/javascript": [
              "\n",
              "    async function download(id, filename, size) {\n",
              "      if (!google.colab.kernel.accessAllowed) {\n",
              "        return;\n",
              "      }\n",
              "      const div = document.createElement('div');\n",
              "      const label = document.createElement('label');\n",
              "      label.textContent = `Downloading \"${filename}\": `;\n",
              "      div.appendChild(label);\n",
              "      const progress = document.createElement('progress');\n",
              "      progress.max = size;\n",
              "      div.appendChild(progress);\n",
              "      document.body.appendChild(div);\n",
              "\n",
              "      const buffers = [];\n",
              "      let downloaded = 0;\n",
              "\n",
              "      const channel = await google.colab.kernel.comms.open(id);\n",
              "      // Send a message to notify the kernel that we're ready.\n",
              "      channel.send({})\n",
              "\n",
              "      for await (const message of channel.messages) {\n",
              "        // Send a message to notify the kernel that we're ready.\n",
              "        channel.send({})\n",
              "        if (message.buffers) {\n",
              "          for (const buffer of message.buffers) {\n",
              "            buffers.push(buffer);\n",
              "            downloaded += buffer.byteLength;\n",
              "            progress.value = downloaded;\n",
              "          }\n",
              "        }\n",
              "      }\n",
              "      const blob = new Blob(buffers, {type: 'application/binary'});\n",
              "      const a = document.createElement('a');\n",
              "      a.href = window.URL.createObjectURL(blob);\n",
              "      a.download = filename;\n",
              "      div.appendChild(a);\n",
              "      a.click();\n",
              "      div.remove();\n",
              "    }\n",
              "  "
            ]
          },
          "metadata": {}
        },
        {
          "output_type": "display_data",
          "data": {
            "text/plain": [
              "<IPython.core.display.Javascript object>"
            ],
            "application/javascript": [
              "download(\"download_730afcb5-47f7-4c40-a157-0305a4c22f70\", \"ted_full_data.csv\", 7543056)"
            ]
          },
          "metadata": {}
        }
      ]
    }
  ]
}
